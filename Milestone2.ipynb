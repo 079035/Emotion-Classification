{
  "nbformat": 4,
  "nbformat_minor": 0,
  "metadata": {
    "colab": {
      "provenance": [],
      "gpuType": "T4"
    },
    "kernelspec": {
      "name": "python3",
      "display_name": "Python 3"
    },
    "language_info": {
      "name": "python"
    },
    "accelerator": "GPU"
  },
  "cells": [
    {
      "cell_type": "code",
      "source": [
        "!jar xvf /content/archive.zip"
      ],
      "metadata": {
        "colab": {
          "base_uri": "https://localhost:8080/"
        },
        "id": "tyM7BNUBzSG4",
        "outputId": "497cd418-6395-454c-f04e-6894a50faa5e"
      },
      "execution_count": null,
      "outputs": [
        {
          "output_type": "stream",
          "name": "stdout",
          "text": [
            " inflated: AudioWAV/1001_DFA_ANG_XX.wav\n",
            " inflated: AudioWAV/1001_DFA_DIS_XX.wav\n",
            " inflated: AudioWAV/1001_DFA_FEA_XX.wav\n",
            " inflated: AudioWAV/1001_DFA_HAP_XX.wav\n",
            " inflated: AudioWAV/1001_DFA_NEU_XX.wav\n",
            " inflated: AudioWAV/1001_DFA_SAD_XX.wav\n",
            " inflated: AudioWAV/1001_IEO_ANG_HI.wav\n",
            " inflated: AudioWAV/1001_IEO_ANG_LO.wav\n",
            " inflated: AudioWAV/1001_IEO_ANG_MD.wav\n",
            " inflated: AudioWAV/1001_IEO_DIS_HI.wav\n",
            " inflated: AudioWAV/1001_IEO_DIS_LO.wav\n",
            " inflated: AudioWAV/1001_IEO_DIS_MD.wav\n",
            " inflated: AudioWAV/1001_IEO_FEA_HI.wav\n",
            " inflated: AudioWAV/1001_IEO_FEA_LO.wav\n",
            " inflated: AudioWAV/1001_IEO_FEA_MD.wav\n",
            " inflated: AudioWAV/1001_IEO_HAP_HI.wav\n",
            " inflated: AudioWAV/1001_IEO_HAP_LO.wav\n",
            " inflated: AudioWAV/1001_IEO_HAP_MD.wav\n",
            " inflated: AudioWAV/1001_IEO_NEU_XX.wav\n",
            " inflated: AudioWAV/1001_IEO_SAD_HI.wav\n",
            " inflated: AudioWAV/1001_IEO_SAD_LO.wav\n",
            "java.util.zip.ZipException: invalid code lengths set\n",
            "\tat java.base/java.util.zip.InflaterInputStream.read(InflaterInputStream.java:165)\n",
            "\tat java.base/java.util.zip.ZipInputStream.read(ZipInputStream.java:197)\n",
            "\tat java.base/java.util.zip.ZipInputStream.closeEntry(ZipInputStream.java:143)\n",
            "\tat jdk.jartool/sun.tools.jar.Main.extractFile(Main.java:1462)\n",
            "\tat jdk.jartool/sun.tools.jar.Main.extract(Main.java:1369)\n",
            "\tat jdk.jartool/sun.tools.jar.Main.run(Main.java:415)\n",
            "\tat jdk.jartool/sun.tools.jar.Main.main(Main.java:1686)\n"
          ]
        }
      ]
    },
    {
      "cell_type": "code",
      "execution_count": null,
      "metadata": {
        "id": "b70NaZUtk6Ip",
        "colab": {
          "base_uri": "https://localhost:8080/"
        },
        "outputId": "0946211c-3590-4477-d495-ce937a9f9a9d"
      },
      "outputs": [
        {
          "output_type": "stream",
          "name": "stdout",
          "text": [
            "Spectrograms shape: (22, 128, 128)\n",
            "Labels shape: (22,)\n"
          ]
        }
      ],
      "source": [
        "import librosa\n",
        "import numpy as np\n",
        "import os\n",
        "\n",
        "def create_spectrograms(dataset_path, target_shape=(128, 128)):\n",
        "    spectrograms = []\n",
        "    labels = []\n",
        "\n",
        "    for file in os.listdir(dataset_path):\n",
        "        if file.endswith('.wav'):\n",
        "            audio_path = os.path.join(dataset_path, file)\n",
        "            # Load audio file\n",
        "            y, sr = librosa.load(audio_path, sr=None)\n",
        "\n",
        "            # Create mel spectrogram\n",
        "            S = librosa.feature.melspectrogram(y=y, sr=sr, n_mels=target_shape[0])\n",
        "            log_S = librosa.power_to_db(S, ref=np.max)\n",
        "\n",
        "            # Resize the spectrogram to target shape if necessary\n",
        "            if log_S.shape[1] < target_shape[1]:\n",
        "                # Pad with zeros if the spectrogram is smaller than the target size\n",
        "                padding = np.zeros((target_shape[0], target_shape[1] - log_S.shape[1]))\n",
        "                log_S = np.concatenate((log_S, padding), axis=1)\n",
        "            elif log_S.shape[1] > target_shape[1]:\n",
        "                # Crop the spectrogram if it is larger than the target size\n",
        "                log_S = log_S[:, :target_shape[1]]\n",
        "\n",
        "            spectrograms.append(log_S)\n",
        "\n",
        "            # Extract label (adjust this as needed)\n",
        "            label = file.split('_')[1]  # Adjust based on your filename convention\n",
        "            labels.append(label)\n",
        "\n",
        "    return np.array(spectrograms), np.array(labels)\n",
        "\n",
        "# Set the path to your AudioWAV dataset\n",
        "dataset_path = '/content/AudioWAV'\n",
        "X, y = create_spectrograms(dataset_path)\n",
        "\n",
        "# Check the output shapes\n",
        "print(\"Spectrograms shape:\", X.shape)\n",
        "print(\"Labels shape:\", y.shape)\n"
      ]
    },
    {
      "cell_type": "code",
      "source": [
        "import numpy as np\n",
        "from keras.models import Sequential\n",
        "from keras.layers import Conv2D, MaxPooling2D, Flatten, Dense, Dropout\n",
        "from sklearn.model_selection import train_test_split\n",
        "from sklearn.preprocessing import LabelEncoder\n",
        "# Encode labels\n",
        "label_encoder = LabelEncoder()\n",
        "y_encoded = label_encoder.fit_transform(y)  # Transform string labels to integers\n",
        "\n",
        "# Split the dataset into training and testing sets\n",
        "X_train, X_test, y_train, y_test = train_test_split(X, y_encoded, test_size=0.2, random_state=42)\n",
        "# Define the CNN model\n",
        "model = Sequential()\n",
        "\n",
        "# Add layers\n",
        "model.add(Conv2D(32, (3, 3), activation='relu', input_shape=(128, 128, 1)))  # Adjust input shape as necessary\n",
        "model.add(MaxPooling2D(pool_size=(2, 2)))\n",
        "model.add(Conv2D(64, (3, 3), activation='relu'))\n",
        "model.add(MaxPooling2D(pool_size=(2, 2)))\n",
        "model.add(Flatten())\n",
        "model.add(Dense(128, activation='relu'))\n",
        "model.add(Dropout(0.5))\n",
        "model.add(Dense(len(np.unique(y_encoded)), activation='softmax'))  # Number of classes\n"
      ],
      "metadata": {
        "id": "99NUed-vQFfP",
        "colab": {
          "base_uri": "https://localhost:8080/"
        },
        "outputId": "735deeb0-7604-49e5-dbd5-b4f2c9ede38c"
      },
      "execution_count": null,
      "outputs": [
        {
          "output_type": "stream",
          "name": "stderr",
          "text": [
            "/usr/local/lib/python3.10/dist-packages/keras/src/layers/convolutional/base_conv.py:107: UserWarning: Do not pass an `input_shape`/`input_dim` argument to a layer. When using Sequential models, prefer using an `Input(shape)` object as the first layer in the model instead.\n",
            "  super().__init__(activity_regularizer=activity_regularizer, **kwargs)\n"
          ]
        }
      ]
    },
    {
      "cell_type": "code",
      "source": [
        "# Compile the model\n",
        "model.compile(optimizer='adam', loss='sparse_categorical_crossentropy', metrics=['accuracy'])\n",
        "# Reshape your data for CNN input\n",
        "X_train = X_train.reshape(-1, 128, 128, 1)  # Add channel dimension\n",
        "X_test = X_test.reshape(-1, 128, 128, 1)    # Add channel dimension\n",
        "\n",
        "# Train the model\n",
        "model.fit(X_train, y_train, epochs=10, validation_data=(X_test, y_test))\n"
      ],
      "metadata": {
        "id": "C415-zSpQKFF",
        "colab": {
          "base_uri": "https://localhost:8080/"
        },
        "outputId": "0db3164e-0f69-448a-ca80-06cd19eae9a9"
      },
      "execution_count": null,
      "outputs": [
        {
          "output_type": "stream",
          "name": "stdout",
          "text": [
            "Epoch 1/10\n",
            "\u001b[1m1/1\u001b[0m \u001b[32m━━━━━━━━━━━━━━━━━━━━\u001b[0m\u001b[37m\u001b[0m \u001b[1m9s\u001b[0m 9s/step - accuracy: 0.7059 - loss: 5.0589 - val_accuracy: 0.4000 - val_loss: 96.0080\n",
            "Epoch 2/10\n",
            "\u001b[1m1/1\u001b[0m \u001b[32m━━━━━━━━━━━━━━━━━━━━\u001b[0m\u001b[37m\u001b[0m \u001b[1m0s\u001b[0m 86ms/step - accuracy: 0.2353 - loss: 99.5030 - val_accuracy: 0.6000 - val_loss: 51.8794\n",
            "Epoch 3/10\n",
            "\u001b[1m1/1\u001b[0m \u001b[32m━━━━━━━━━━━━━━━━━━━━\u001b[0m\u001b[37m\u001b[0m \u001b[1m0s\u001b[0m 83ms/step - accuracy: 0.8235 - loss: 23.1941 - val_accuracy: 0.6000 - val_loss: 68.4950\n",
            "Epoch 4/10\n",
            "\u001b[1m1/1\u001b[0m \u001b[32m━━━━━━━━━━━━━━━━━━━━\u001b[0m\u001b[37m\u001b[0m \u001b[1m0s\u001b[0m 130ms/step - accuracy: 0.7647 - loss: 18.0118 - val_accuracy: 0.6000 - val_loss: 44.3447\n",
            "Epoch 5/10\n",
            "\u001b[1m1/1\u001b[0m \u001b[32m━━━━━━━━━━━━━━━━━━━━\u001b[0m\u001b[37m\u001b[0m \u001b[1m0s\u001b[0m 147ms/step - accuracy: 0.8824 - loss: 7.7235 - val_accuracy: 0.6000 - val_loss: 26.3054\n",
            "Epoch 6/10\n",
            "\u001b[1m1/1\u001b[0m \u001b[32m━━━━━━━━━━━━━━━━━━━━\u001b[0m\u001b[37m\u001b[0m \u001b[1m0s\u001b[0m 65ms/step - accuracy: 0.9412 - loss: 3.7743 - val_accuracy: 0.6000 - val_loss: 14.3305\n",
            "Epoch 7/10\n",
            "\u001b[1m1/1\u001b[0m \u001b[32m━━━━━━━━━━━━━━━━━━━━\u001b[0m\u001b[37m\u001b[0m \u001b[1m0s\u001b[0m 65ms/step - accuracy: 0.8235 - loss: 6.4384 - val_accuracy: 0.6000 - val_loss: 9.6188\n",
            "Epoch 8/10\n",
            "\u001b[1m1/1\u001b[0m \u001b[32m━━━━━━━━━━━━━━━━━━━━\u001b[0m\u001b[37m\u001b[0m \u001b[1m0s\u001b[0m 150ms/step - accuracy: 0.8824 - loss: 3.8649 - val_accuracy: 0.6000 - val_loss: 10.2367\n",
            "Epoch 9/10\n",
            "\u001b[1m1/1\u001b[0m \u001b[32m━━━━━━━━━━━━━━━━━━━━\u001b[0m\u001b[37m\u001b[0m \u001b[1m0s\u001b[0m 72ms/step - accuracy: 0.8824 - loss: 2.0673 - val_accuracy: 0.6000 - val_loss: 10.2732\n",
            "Epoch 10/10\n",
            "\u001b[1m1/1\u001b[0m \u001b[32m━━━━━━━━━━━━━━━━━━━━\u001b[0m\u001b[37m\u001b[0m \u001b[1m0s\u001b[0m 136ms/step - accuracy: 0.9412 - loss: 1.2851 - val_accuracy: 0.6000 - val_loss: 14.8503\n"
          ]
        },
        {
          "output_type": "execute_result",
          "data": {
            "text/plain": [
              "<keras.src.callbacks.history.History at 0x7e3109e084c0>"
            ]
          },
          "metadata": {},
          "execution_count": 10
        }
      ]
    },
    {
      "cell_type": "code",
      "source": [
        "# Evaluate the model\n",
        "test_loss, test_acc = model.evaluate(X_test, y_test)\n",
        "print(f'Test accuracy: {test_acc}')\n",
        "\n",
        "# You can also visualize the results, for example with confusion matrix\n",
        "from sklearn.metrics import confusion_matrix, classification_report\n",
        "import seaborn as sns\n",
        "import matplotlib.pyplot as plt\n",
        "\n",
        "y_pred = model.predict(X_test)\n",
        "y_pred_classes = np.argmax(y_pred, axis=1)\n",
        "\n",
        "# Confusion matrix\n",
        "cm = confusion_matrix(y_test, y_pred_classes)\n",
        "plt.figure(figsize=(10, 8))\n",
        "sns.heatmap(cm, annot=True, fmt='d', cmap='Blues', xticklabels=label_encoder.classes_, yticklabels=label_encoder.classes_)\n",
        "plt.ylabel('Actual')\n",
        "plt.xlabel('Predicted')\n",
        "plt.title('Confusion Matrix')\n",
        "plt.show()\n",
        "\n",
        "# Classification report\n",
        "print(classification_report(y_test, y_pred_classes, target_names=label_encoder.classes_))\n"
      ],
      "metadata": {
        "id": "10Jm4neJQPDM",
        "colab": {
          "base_uri": "https://localhost:8080/",
          "height": 1000
        },
        "outputId": "b09cb420-a6ab-486e-b7c5-259d433f435b"
      },
      "execution_count": null,
      "outputs": [
        {
          "output_type": "stream",
          "name": "stdout",
          "text": [
            "\u001b[1m1/1\u001b[0m \u001b[32m━━━━━━━━━━━━━━━━━━━━\u001b[0m\u001b[37m\u001b[0m \u001b[1m0s\u001b[0m 33ms/step - accuracy: 0.6000 - loss: 14.8503\n",
            "Test accuracy: 0.6000000238418579\n",
            "\u001b[1m1/1\u001b[0m \u001b[32m━━━━━━━━━━━━━━━━━━━━\u001b[0m\u001b[37m\u001b[0m \u001b[1m0s\u001b[0m 258ms/step\n"
          ]
        },
        {
          "output_type": "display_data",
          "data": {
            "text/plain": [
              "<Figure size 1000x800 with 2 Axes>"
            ],
            "image/png": "[encoded data removed]"
          },
          "metadata": {}
        },
        {
          "output_type": "stream",
          "name": "stdout",
          "text": [
            "              precision    recall  f1-score   support\n",
            "\n",
            "         DFA       0.00      0.00      0.00         2\n",
            "         IEO       0.60      1.00      0.75         3\n",
            "\n",
            "    accuracy                           0.60         5\n",
            "   macro avg       0.30      0.50      0.38         5\n",
            "weighted avg       0.36      0.60      0.45         5\n",
            "\n"
          ]
        },
        {
          "output_type": "stream",
          "name": "stderr",
          "text": [
            "/usr/local/lib/python3.10/dist-packages/sklearn/metrics/_classification.py:1531: UndefinedMetricWarning: Precision is ill-defined and being set to 0.0 in labels with no predicted samples. Use `zero_division` parameter to control this behavior.\n",
            "  _warn_prf(average, modifier, f\"{metric.capitalize()} is\", len(result))\n",
            "/usr/local/lib/python3.10/dist-packages/sklearn/metrics/_classification.py:1531: UndefinedMetricWarning: Precision is ill-defined and being set to 0.0 in labels with no predicted samples. Use `zero_division` parameter to control this behavior.\n",
            "  _warn_prf(average, modifier, f\"{metric.capitalize()} is\", len(result))\n",
            "/usr/local/lib/python3.10/dist-packages/sklearn/metrics/_classification.py:1531: UndefinedMetricWarning: Precision is ill-defined and being set to 0.0 in labels with no predicted samples. Use `zero_division` parameter to control this behavior.\n",
            "  _warn_prf(average, modifier, f\"{metric.capitalize()} is\", len(result))\n"
          ]
        }
      ]
    },
    {
      "cell_type": "code",
      "source": [],
      "metadata": {
        "id": "82IADlKO0sxH"
      },
      "execution_count": null,
      "outputs": []
    }
  ]
}
